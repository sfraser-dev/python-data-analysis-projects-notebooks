{
 "cells": [
  {
   "cell_type": "code",
   "execution_count": 2,
   "id": "125ba00a-45dd-4c9a-b32c-f5f140ec9c2d",
   "metadata": {},
   "outputs": [],
   "source": [
    "import numpy as np"
   ]
  },
  {
   "cell_type": "code",
   "execution_count": 3,
   "id": "5d10d3b9-b673-4912-ae16-46ce243e268b",
   "metadata": {},
   "outputs": [
    {
     "data": {
      "text/plain": [
       "[2, 6, 2, 8, 4, 0, 1, 5, 7]"
      ]
     },
     "execution_count": 3,
     "metadata": {},
     "output_type": "execute_result"
    }
   ],
   "source": [
    "list_of_numbers = [2,6,2,8,4,0,1,5,7]\n",
    "list_of_numbers"
   ]
  },
  {
   "cell_type": "code",
   "execution_count": 6,
   "id": "062bcce1-bc5c-4845-8cd8-1a8e558f1d8f",
   "metadata": {},
   "outputs": [],
   "source": [
    "if len(list_of_numbers) != 9:\n",
    "        raise ValueError(\"List must contain nine numbers.\")"
   ]
  },
  {
   "cell_type": "code",
   "execution_count": 8,
   "id": "96662f67-5df7-4277-8b60-c740705fea79",
   "metadata": {},
   "outputs": [
    {
     "data": {
      "text/plain": [
       "array([[2, 6, 2],\n",
       "       [8, 4, 0],\n",
       "       [1, 5, 7]])"
      ]
     },
     "execution_count": 8,
     "metadata": {},
     "output_type": "execute_result"
    }
   ],
   "source": [
    "numpy_array_3x3 = np.array(list_of_numbers).reshape(3, 3)\n",
    "numpy_array_3x3"
   ]
  },
  {
   "cell_type": "code",
   "execution_count": 10,
   "id": "a7d09088-c73e-4247-a466-a2a56313f14b",
   "metadata": {},
   "outputs": [
    {
     "data": {
      "text/plain": [
       "[3.6666666666666665, 5.0, 3.0]"
      ]
     },
     "execution_count": 10,
     "metadata": {},
     "output_type": "execute_result"
    }
   ],
   "source": [
    "# columns: axis=0\n",
    "mean_along_columns = np.mean(numpy_array_3x3, axis=0).tolist()\n",
    "mean_along_columns"
   ]
  },
  {
   "cell_type": "code",
   "execution_count": 20,
   "id": "592a9478-5733-4dda-8cf8-54ce32e1d0c6",
   "metadata": {},
   "outputs": [
    {
     "data": {
      "text/plain": [
       "[3.3333333333333335, 4.0, 4.333333333333333]"
      ]
     },
     "execution_count": 20,
     "metadata": {},
     "output_type": "execute_result"
    }
   ],
   "source": [
    "# rows: axis=1\n",
    "mean_along_rows = np.mean(numpy_array_3x3, axis=1).tolist()\n",
    "mean_along_rows"
   ]
  },
  {
   "cell_type": "code",
   "execution_count": 12,
   "id": "e35028ce-c98d-4d2d-aae3-e16af28cc69c",
   "metadata": {},
   "outputs": [
    {
     "data": {
      "text/plain": [
       "3.888888888888889"
      ]
     },
     "execution_count": 12,
     "metadata": {},
     "output_type": "execute_result"
    }
   ],
   "source": [
    "mean_of_all_elements = np.mean(numpy_array_3x3).tolist()\n",
    "mean_of_all_elements"
   ]
  },
  {
   "cell_type": "code",
   "execution_count": 15,
   "id": "c23c72b5-9526-4c4c-a5b0-1b5f43983f47",
   "metadata": {},
   "outputs": [
    {
     "data": {
      "text/plain": [
       "[9.555555555555557, 0.6666666666666666, 8.666666666666666]"
      ]
     },
     "execution_count": 15,
     "metadata": {},
     "output_type": "execute_result"
    }
   ],
   "source": [
    "variance_along_columns = np.var(numpy_array_3x3, axis=0).tolist()\n",
    "variance_along_columns"
   ]
  },
  {
   "cell_type": "code",
   "execution_count": 16,
   "id": "811c18c0-2b92-4f61-af9d-b66d8a10210e",
   "metadata": {},
   "outputs": [
    {
     "data": {
      "text/plain": [
       "[3.555555555555556, 10.666666666666666, 6.222222222222221]"
      ]
     },
     "execution_count": 16,
     "metadata": {},
     "output_type": "execute_result"
    }
   ],
   "source": [
    "variance_along_rows = np.var(numpy_array_3x3, axis=1).tolist()\n",
    "variance_along_rows"
   ]
  },
  {
   "cell_type": "code",
   "execution_count": 17,
   "id": "d653eb44-09c9-4650-927c-f6c56477843e",
   "metadata": {},
   "outputs": [
    {
     "data": {
      "text/plain": [
       "6.987654320987654"
      ]
     },
     "execution_count": 17,
     "metadata": {},
     "output_type": "execute_result"
    }
   ],
   "source": [
    "variance_of_all_elements = np.var(numpy_array_3x3).tolist()\n",
    "variance_of_all_elements"
   ]
  },
  {
   "cell_type": "code",
   "execution_count": 18,
   "id": "69bcd476-7c06-49d4-98d9-e22804c42597",
   "metadata": {},
   "outputs": [
    {
     "data": {
      "text/plain": [
       "[3.091206165165235, 0.816496580927726, 2.943920288775949]"
      ]
     },
     "execution_count": 18,
     "metadata": {},
     "output_type": "execute_result"
    }
   ],
   "source": [
    "std_dev_along_columns = np.std(numpy_array_3x3, axis=0).tolist()\n",
    "std_dev_along_columns"
   ]
  },
  {
   "cell_type": "code",
   "execution_count": 19,
   "id": "bcce895a-a413-4f96-8299-f60a9ae6a366",
   "metadata": {},
   "outputs": [
    {
     "data": {
      "text/plain": [
       "[1.8856180831641267, 3.265986323710904, 2.494438257849294]"
      ]
     },
     "execution_count": 19,
     "metadata": {},
     "output_type": "execute_result"
    }
   ],
   "source": [
    "std_dev_along_rows = np.std(numpy_array_3x3, axis=1).tolist()\n",
    "std_dev_along_rows"
   ]
  },
  {
   "cell_type": "code",
   "execution_count": 22,
   "id": "31ac968d-6e29-4087-b359-a025d6ec70b9",
   "metadata": {},
   "outputs": [
    {
     "data": {
      "text/plain": [
       "2.6434171674156266"
      ]
     },
     "execution_count": 22,
     "metadata": {},
     "output_type": "execute_result"
    }
   ],
   "source": [
    "std_dev_of_all_elements = np.std(numpy_array_3x3).tolist()\n",
    "std_dev_of_all_elements"
   ]
  },
  {
   "cell_type": "code",
   "execution_count": 24,
   "id": "a6bac38b-6e29-418b-bab0-39aeb8d1a409",
   "metadata": {},
   "outputs": [
    {
     "data": {
      "text/plain": [
       "[8, 6, 7]"
      ]
     },
     "execution_count": 24,
     "metadata": {},
     "output_type": "execute_result"
    }
   ],
   "source": [
    "max_along_columns = np.max(numpy_array_3x3, axis=0).tolist()\n",
    "max_along_columns"
   ]
  },
  {
   "cell_type": "code",
   "execution_count": 26,
   "id": "fb62fe58-38fa-4aad-93a5-4b4293ef27f5",
   "metadata": {},
   "outputs": [
    {
     "data": {
      "text/plain": [
       "[6, 8, 7]"
      ]
     },
     "execution_count": 26,
     "metadata": {},
     "output_type": "execute_result"
    }
   ],
   "source": [
    "max_along_rows = np.max(numpy_array_3x3, axis=1).tolist()\n",
    "max_along_rows"
   ]
  },
  {
   "cell_type": "code",
   "execution_count": 27,
   "id": "26e92a0a-e6c7-4fa4-bacd-e146d98349aa",
   "metadata": {},
   "outputs": [
    {
     "data": {
      "text/plain": [
       "8"
      ]
     },
     "execution_count": 27,
     "metadata": {},
     "output_type": "execute_result"
    }
   ],
   "source": [
    "max_of_all_elements = np.max(numpy_array_3x3).tolist()\n",
    "max_of_all_elements"
   ]
  },
  {
   "cell_type": "code",
   "execution_count": 28,
   "id": "bcb3c43f-b624-4034-974a-a69037cd940f",
   "metadata": {},
   "outputs": [
    {
     "data": {
      "text/plain": [
       "[1, 4, 0]"
      ]
     },
     "execution_count": 28,
     "metadata": {},
     "output_type": "execute_result"
    }
   ],
   "source": [
    "min_along_columns = np.min(numpy_array_3x3, axis=0).tolist()\n",
    "min_along_columns"
   ]
  },
  {
   "cell_type": "code",
   "execution_count": 30,
   "id": "3f67254d-fdc2-408b-8247-7d0ab38fee72",
   "metadata": {},
   "outputs": [
    {
     "data": {
      "text/plain": [
       "[2, 0, 1]"
      ]
     },
     "execution_count": 30,
     "metadata": {},
     "output_type": "execute_result"
    }
   ],
   "source": [
    "min_along_rows = np.min(numpy_array_3x3, axis=1).tolist()\n",
    "min_along_rows"
   ]
  },
  {
   "cell_type": "code",
   "execution_count": 31,
   "id": "3264b530-fa68-41af-a863-95efc66ebd5c",
   "metadata": {},
   "outputs": [
    {
     "data": {
      "text/plain": [
       "0"
      ]
     },
     "execution_count": 31,
     "metadata": {},
     "output_type": "execute_result"
    }
   ],
   "source": [
    "min_of_all_elements = np.min(numpy_array_3x3).tolist()\n",
    "min_of_all_elements"
   ]
  },
  {
   "cell_type": "code",
   "execution_count": 33,
   "id": "60c3e875-954c-431a-81f5-1418739e20d0",
   "metadata": {},
   "outputs": [
    {
     "data": {
      "text/plain": [
       "[11, 15, 9]"
      ]
     },
     "execution_count": 33,
     "metadata": {},
     "output_type": "execute_result"
    }
   ],
   "source": [
    "sum_along_columns = np.sum(numpy_array_3x3, axis=0).tolist()\n",
    "sum_along_columns"
   ]
  },
  {
   "cell_type": "code",
   "execution_count": 34,
   "id": "9f66f3ef-e539-4445-bbcd-b332dbbb22e2",
   "metadata": {},
   "outputs": [
    {
     "data": {
      "text/plain": [
       "[10, 12, 13]"
      ]
     },
     "execution_count": 34,
     "metadata": {},
     "output_type": "execute_result"
    }
   ],
   "source": [
    "sum_along_rows = np.sum(numpy_array_3x3, axis=1).tolist()\n",
    "sum_along_rows"
   ]
  },
  {
   "cell_type": "code",
   "execution_count": 35,
   "id": "abc0a6bf-df5e-4dda-85a7-5c90b94d64e1",
   "metadata": {},
   "outputs": [
    {
     "data": {
      "text/plain": [
       "35"
      ]
     },
     "execution_count": 35,
     "metadata": {},
     "output_type": "execute_result"
    }
   ],
   "source": [
    "sum_of_all_elements = np.sum(numpy_array_3x3).tolist()\n",
    "sum_of_all_elements"
   ]
  },
  {
   "cell_type": "code",
   "execution_count": 36,
   "id": "17148ae3-9a0f-4da5-9171-fb2f5a3878ca",
   "metadata": {},
   "outputs": [
    {
     "data": {
      "text/plain": [
       "{'mean': [[3.6666666666666665, 5.0, 3.0],\n",
       "  [3.3333333333333335, 4.0, 4.333333333333333],\n",
       "  3.888888888888889],\n",
       " 'variance': [[9.555555555555557, 0.6666666666666666, 8.666666666666666],\n",
       "  [3.555555555555556, 10.666666666666666, 6.222222222222221],\n",
       "  6.987654320987654],\n",
       " 'standard deviation': [[3.091206165165235,\n",
       "   0.816496580927726,\n",
       "   2.943920288775949],\n",
       "  [1.8856180831641267, 3.265986323710904, 2.494438257849294],\n",
       "  2.6434171674156266],\n",
       " 'max': [[8, 6, 7], [6, 8, 7], 8],\n",
       " 'min': [[1, 4, 0], [2, 0, 1], 0],\n",
       " 'sum': [[11, 15, 9], [10, 12, 13], 35]}"
      ]
     },
     "execution_count": 36,
     "metadata": {},
     "output_type": "execute_result"
    }
   ],
   "source": [
    "calculations = {\n",
    "        'mean': [mean_along_columns, mean_along_rows, mean_of_all_elements],\n",
    "        'variance': [variance_along_columns, variance_along_rows, variance_of_all_elements],\n",
    "        'standard deviation': [std_dev_along_columns, std_dev_along_rows, std_dev_of_all_elements],\n",
    "        'max': [max_along_columns, max_along_rows, max_of_all_elements],\n",
    "        'min': [min_along_columns, min_along_rows, min_of_all_elements],\n",
    "        'sum': [sum_along_columns, sum_along_rows, sum_of_all_elements]\n",
    "    }\n",
    "calculations"
   ]
  },
  {
   "cell_type": "code",
   "execution_count": null,
   "id": "9e53ca1d-74e2-40b5-b276-b1389ce07d1c",
   "metadata": {},
   "outputs": [],
   "source": []
  }
 ],
 "metadata": {
  "kernelspec": {
   "display_name": ".myFccDataAnalEnv",
   "language": "python",
   "name": ".myfccdataanalenv"
  },
  "language_info": {
   "codemirror_mode": {
    "name": "ipython",
    "version": 3
   },
   "file_extension": ".py",
   "mimetype": "text/x-python",
   "name": "python",
   "nbconvert_exporter": "python",
   "pygments_lexer": "ipython3",
   "version": "3.12.2"
  }
 },
 "nbformat": 4,
 "nbformat_minor": 5
}
